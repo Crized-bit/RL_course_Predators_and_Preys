{
 "cells": [
  {
   "cell_type": "code",
   "id": "initial_id",
   "metadata": {
    "collapsed": true,
    "ExecuteTime": {
     "end_time": "2024-10-21T12:58:58.356016Z",
     "start_time": "2024-10-21T12:58:58.326325Z"
    }
   },
   "source": [
    "from world.envs import OnePlayerEnv, TwoPlayerEnv\n",
    "from world.realm import Realm\n",
    "from world.map_loaders.single_team import SingleTeamLabyrinthMapLoader\n",
    "from world.map_loaders.two_teams import TwoTeamLabyrinthMapLoader"
   ],
   "outputs": [],
   "execution_count": 11
  },
  {
   "metadata": {
    "ExecuteTime": {
     "end_time": "2024-10-21T12:58:58.623896Z",
     "start_time": "2024-10-21T12:58:58.594885Z"
    }
   },
   "cell_type": "code",
   "source": [
    "%load_ext autoreload\n",
    "%autoreload 2"
   ],
   "id": "ef9d71d7e95fb0b",
   "outputs": [
    {
     "name": "stdout",
     "output_type": "stream",
     "text": [
      "The autoreload extension is already loaded. To reload it, use:\n",
      "  %reload_ext autoreload\n"
     ]
    }
   ],
   "execution_count": 12
  },
  {
   "metadata": {
    "ExecuteTime": {
     "end_time": "2024-10-21T15:07:22.914998Z",
     "start_time": "2024-10-21T15:07:22.885213Z"
    }
   },
   "cell_type": "code",
   "source": "env = OnePlayerEnv(Realm(SingleTeamLabyrinthMapLoader(), 1))",
   "id": "d1836b889a55651d",
   "outputs": [],
   "execution_count": 45
  },
  {
   "metadata": {
    "ExecuteTime": {
     "end_time": "2024-10-21T15:07:23.320278Z",
     "start_time": "2024-10-21T15:07:23.282088Z"
    }
   },
   "cell_type": "code",
   "source": "state, info = env.reset()",
   "id": "5a64d43056429db7",
   "outputs": [],
   "execution_count": 46
  },
  {
   "metadata": {
    "ExecuteTime": {
     "end_time": "2024-10-21T13:28:18.894910Z",
     "start_time": "2024-10-21T13:28:18.866237Z"
    }
   },
   "cell_type": "code",
   "source": "type(state)",
   "id": "29361740a227517f",
   "outputs": [
    {
     "data": {
      "text/plain": [
       "numpy.ndarray"
      ]
     },
     "execution_count": 20,
     "metadata": {},
     "output_type": "execute_result"
    }
   ],
   "execution_count": 20
  },
  {
   "metadata": {},
   "cell_type": "code",
   "outputs": [],
   "execution_count": null,
   "source": "",
   "id": "11f2869bc026b1e5"
  },
  {
   "metadata": {
    "ExecuteTime": {
     "end_time": "2024-10-21T13:36:01.669878Z",
     "start_time": "2024-10-21T13:36:01.641740Z"
    }
   },
   "cell_type": "code",
   "source": "print(state[..., 0])",
   "id": "11796aa7cc058ecc",
   "outputs": [
    {
     "name": "stdout",
     "output_type": "stream",
     "text": [
      "[[-1 -1 -1 ... -1 -1 -1]\n",
      " [-1  2  2 ...  2 -1 -1]\n",
      " [-1 -1 -1 ... -1 -1 -1]\n",
      " ...\n",
      " [-1 -1  2 ... -1 -1 -1]\n",
      " [ 2 -1 -1 ... -1  2  2]\n",
      " [-1 -1 -1 ... -1 -1 -1]]\n"
     ]
    }
   ],
   "execution_count": 23
  },
  {
   "metadata": {
    "ExecuteTime": {
     "end_time": "2024-10-21T13:03:01.515613Z",
     "start_time": "2024-10-21T13:03:01.477682Z"
    }
   },
   "cell_type": "code",
   "source": "[(item[\"x\"], item[\"y\"]) for item in info[\"predators\"]]",
   "id": "93f04d63f1c0212b",
   "outputs": [
    {
     "data": {
      "text/plain": [
       "{'eaten': {},\n",
       " 'preys': [{'x': 0,\n",
       "   'y': 22,\n",
       "   'id': 0,\n",
       "   'team': 2,\n",
       "   'alive': True,\n",
       "   'bonus_count': 0},\n",
       "  {'x': 0, 'y': 38, 'id': 1, 'team': 2, 'alive': True, 'bonus_count': 0},\n",
       "  {'x': 1, 'y': 1, 'id': 2, 'team': 2, 'alive': True, 'bonus_count': 0},\n",
       "  {'x': 1, 'y': 4, 'id': 3, 'team': 2, 'alive': True, 'bonus_count': 0},\n",
       "  {'x': 1, 'y': 5, 'id': 4, 'team': 2, 'alive': True, 'bonus_count': 0},\n",
       "  {'x': 1, 'y': 27, 'id': 5, 'team': 2, 'alive': True, 'bonus_count': 0},\n",
       "  {'x': 1, 'y': 33, 'id': 6, 'team': 2, 'alive': True, 'bonus_count': 0},\n",
       "  {'x': 2, 'y': 1, 'id': 7, 'team': 2, 'alive': True, 'bonus_count': 0},\n",
       "  {'x': 2, 'y': 13, 'id': 8, 'team': 2, 'alive': True, 'bonus_count': 0},\n",
       "  {'x': 2, 'y': 28, 'id': 9, 'team': 2, 'alive': True, 'bonus_count': 0},\n",
       "  {'x': 2, 'y': 29, 'id': 10, 'team': 2, 'alive': True, 'bonus_count': 0},\n",
       "  {'x': 2, 'y': 34, 'id': 11, 'team': 2, 'alive': True, 'bonus_count': 0},\n",
       "  {'x': 2, 'y': 37, 'id': 12, 'team': 2, 'alive': True, 'bonus_count': 0},\n",
       "  {'x': 3, 'y': 17, 'id': 13, 'team': 2, 'alive': True, 'bonus_count': 0},\n",
       "  {'x': 4, 'y': 29, 'id': 14, 'team': 2, 'alive': True, 'bonus_count': 0},\n",
       "  {'x': 5, 'y': 2, 'id': 15, 'team': 2, 'alive': True, 'bonus_count': 0},\n",
       "  {'x': 5, 'y': 4, 'id': 16, 'team': 2, 'alive': True, 'bonus_count': 0},\n",
       "  {'x': 5, 'y': 8, 'id': 17, 'team': 2, 'alive': True, 'bonus_count': 0},\n",
       "  {'x': 5, 'y': 25, 'id': 18, 'team': 2, 'alive': True, 'bonus_count': 0},\n",
       "  {'x': 5, 'y': 27, 'id': 19, 'team': 2, 'alive': True, 'bonus_count': 0},\n",
       "  {'x': 5, 'y': 32, 'id': 20, 'team': 2, 'alive': True, 'bonus_count': 0},\n",
       "  {'x': 6, 'y': 4, 'id': 21, 'team': 2, 'alive': True, 'bonus_count': 0},\n",
       "  {'x': 6, 'y': 9, 'id': 22, 'team': 2, 'alive': True, 'bonus_count': 0},\n",
       "  {'x': 6, 'y': 10, 'id': 23, 'team': 2, 'alive': True, 'bonus_count': 0},\n",
       "  {'x': 6, 'y': 29, 'id': 24, 'team': 2, 'alive': True, 'bonus_count': 0},\n",
       "  {'x': 7, 'y': 22, 'id': 25, 'team': 2, 'alive': True, 'bonus_count': 0},\n",
       "  {'x': 9, 'y': 9, 'id': 26, 'team': 2, 'alive': True, 'bonus_count': 0},\n",
       "  {'x': 9, 'y': 30, 'id': 27, 'team': 2, 'alive': True, 'bonus_count': 0},\n",
       "  {'x': 9, 'y': 34, 'id': 28, 'team': 2, 'alive': True, 'bonus_count': 0},\n",
       "  {'x': 10, 'y': 1, 'id': 29, 'team': 2, 'alive': True, 'bonus_count': 0},\n",
       "  {'x': 10, 'y': 4, 'id': 30, 'team': 2, 'alive': True, 'bonus_count': 0},\n",
       "  {'x': 10, 'y': 14, 'id': 31, 'team': 2, 'alive': True, 'bonus_count': 0},\n",
       "  {'x': 10, 'y': 20, 'id': 32, 'team': 2, 'alive': True, 'bonus_count': 0},\n",
       "  {'x': 10, 'y': 39, 'id': 33, 'team': 2, 'alive': True, 'bonus_count': 0},\n",
       "  {'x': 11, 'y': 14, 'id': 34, 'team': 2, 'alive': True, 'bonus_count': 0},\n",
       "  {'x': 11, 'y': 30, 'id': 35, 'team': 2, 'alive': True, 'bonus_count': 0},\n",
       "  {'x': 11, 'y': 37, 'id': 36, 'team': 2, 'alive': True, 'bonus_count': 0},\n",
       "  {'x': 12, 'y': 21, 'id': 37, 'team': 2, 'alive': True, 'bonus_count': 0},\n",
       "  {'x': 13, 'y': 6, 'id': 38, 'team': 2, 'alive': True, 'bonus_count': 0},\n",
       "  {'x': 13, 'y': 24, 'id': 39, 'team': 2, 'alive': True, 'bonus_count': 0},\n",
       "  {'x': 13, 'y': 29, 'id': 40, 'team': 2, 'alive': True, 'bonus_count': 0},\n",
       "  {'x': 14, 'y': 5, 'id': 41, 'team': 2, 'alive': True, 'bonus_count': 0},\n",
       "  {'x': 14, 'y': 14, 'id': 42, 'team': 2, 'alive': True, 'bonus_count': 0},\n",
       "  {'x': 14, 'y': 15, 'id': 43, 'team': 2, 'alive': True, 'bonus_count': 0},\n",
       "  {'x': 14, 'y': 21, 'id': 44, 'team': 2, 'alive': True, 'bonus_count': 0},\n",
       "  {'x': 14, 'y': 27, 'id': 45, 'team': 2, 'alive': True, 'bonus_count': 0},\n",
       "  {'x': 14, 'y': 37, 'id': 46, 'team': 2, 'alive': True, 'bonus_count': 0},\n",
       "  {'x': 15, 'y': 6, 'id': 47, 'team': 2, 'alive': True, 'bonus_count': 0},\n",
       "  {'x': 16, 'y': 38, 'id': 48, 'team': 2, 'alive': True, 'bonus_count': 0},\n",
       "  {'x': 17, 'y': 4, 'id': 49, 'team': 2, 'alive': True, 'bonus_count': 0},\n",
       "  {'x': 17, 'y': 5, 'id': 50, 'team': 2, 'alive': True, 'bonus_count': 0},\n",
       "  {'x': 17, 'y': 22, 'id': 51, 'team': 2, 'alive': True, 'bonus_count': 0},\n",
       "  {'x': 17, 'y': 25, 'id': 52, 'team': 2, 'alive': True, 'bonus_count': 0},\n",
       "  {'x': 17, 'y': 37, 'id': 53, 'team': 2, 'alive': True, 'bonus_count': 0},\n",
       "  {'x': 18, 'y': 21, 'id': 54, 'team': 2, 'alive': True, 'bonus_count': 0},\n",
       "  {'x': 18, 'y': 33, 'id': 55, 'team': 2, 'alive': True, 'bonus_count': 0},\n",
       "  {'x': 19, 'y': 9, 'id': 56, 'team': 2, 'alive': True, 'bonus_count': 0},\n",
       "  {'x': 19, 'y': 21, 'id': 57, 'team': 2, 'alive': True, 'bonus_count': 0},\n",
       "  {'x': 19, 'y': 30, 'id': 58, 'team': 2, 'alive': True, 'bonus_count': 0},\n",
       "  {'x': 20, 'y': 14, 'id': 59, 'team': 2, 'alive': True, 'bonus_count': 0},\n",
       "  {'x': 20, 'y': 34, 'id': 60, 'team': 2, 'alive': True, 'bonus_count': 0},\n",
       "  {'x': 21, 'y': 1, 'id': 61, 'team': 2, 'alive': True, 'bonus_count': 0},\n",
       "  {'x': 21, 'y': 38, 'id': 62, 'team': 2, 'alive': True, 'bonus_count': 0},\n",
       "  {'x': 23, 'y': 5, 'id': 63, 'team': 2, 'alive': True, 'bonus_count': 0},\n",
       "  {'x': 23, 'y': 6, 'id': 64, 'team': 2, 'alive': True, 'bonus_count': 0},\n",
       "  {'x': 23, 'y': 38, 'id': 65, 'team': 2, 'alive': True, 'bonus_count': 0},\n",
       "  {'x': 24, 'y': 38, 'id': 66, 'team': 2, 'alive': True, 'bonus_count': 0},\n",
       "  {'x': 25, 'y': 28, 'id': 67, 'team': 2, 'alive': True, 'bonus_count': 0},\n",
       "  {'x': 25, 'y': 35, 'id': 68, 'team': 2, 'alive': True, 'bonus_count': 0},\n",
       "  {'x': 26, 'y': 21, 'id': 69, 'team': 2, 'alive': True, 'bonus_count': 0},\n",
       "  {'x': 26, 'y': 25, 'id': 70, 'team': 2, 'alive': True, 'bonus_count': 0},\n",
       "  {'x': 26, 'y': 26, 'id': 71, 'team': 2, 'alive': True, 'bonus_count': 0},\n",
       "  {'x': 27, 'y': 30, 'id': 72, 'team': 2, 'alive': True, 'bonus_count': 0},\n",
       "  {'x': 29, 'y': 7, 'id': 73, 'team': 2, 'alive': True, 'bonus_count': 0},\n",
       "  {'x': 29, 'y': 18, 'id': 74, 'team': 2, 'alive': True, 'bonus_count': 0},\n",
       "  {'x': 29, 'y': 32, 'id': 75, 'team': 2, 'alive': True, 'bonus_count': 0},\n",
       "  {'x': 29, 'y': 37, 'id': 76, 'team': 2, 'alive': True, 'bonus_count': 0},\n",
       "  {'x': 30, 'y': 2, 'id': 77, 'team': 2, 'alive': True, 'bonus_count': 0},\n",
       "  {'x': 30, 'y': 22, 'id': 78, 'team': 2, 'alive': True, 'bonus_count': 0},\n",
       "  {'x': 33, 'y': 1, 'id': 79, 'team': 2, 'alive': True, 'bonus_count': 0},\n",
       "  {'x': 33, 'y': 9, 'id': 80, 'team': 2, 'alive': True, 'bonus_count': 0},\n",
       "  {'x': 33, 'y': 17, 'id': 81, 'team': 2, 'alive': True, 'bonus_count': 0},\n",
       "  {'x': 33, 'y': 23, 'id': 82, 'team': 2, 'alive': True, 'bonus_count': 0},\n",
       "  {'x': 34, 'y': 5, 'id': 83, 'team': 2, 'alive': True, 'bonus_count': 0},\n",
       "  {'x': 34, 'y': 17, 'id': 84, 'team': 2, 'alive': True, 'bonus_count': 0},\n",
       "  {'x': 34, 'y': 20, 'id': 85, 'team': 2, 'alive': True, 'bonus_count': 0},\n",
       "  {'x': 35, 'y': 5, 'id': 86, 'team': 2, 'alive': True, 'bonus_count': 0},\n",
       "  {'x': 36, 'y': 6, 'id': 87, 'team': 2, 'alive': True, 'bonus_count': 0},\n",
       "  {'x': 36, 'y': 25, 'id': 88, 'team': 2, 'alive': True, 'bonus_count': 0},\n",
       "  {'x': 37, 'y': 1, 'id': 89, 'team': 2, 'alive': True, 'bonus_count': 0},\n",
       "  {'x': 37, 'y': 5, 'id': 90, 'team': 2, 'alive': True, 'bonus_count': 0},\n",
       "  {'x': 37, 'y': 7, 'id': 91, 'team': 2, 'alive': True, 'bonus_count': 0},\n",
       "  {'x': 37, 'y': 15, 'id': 92, 'team': 2, 'alive': True, 'bonus_count': 0},\n",
       "  {'x': 37, 'y': 16, 'id': 93, 'team': 2, 'alive': True, 'bonus_count': 0},\n",
       "  {'x': 37, 'y': 31, 'id': 94, 'team': 2, 'alive': True, 'bonus_count': 0},\n",
       "  {'x': 38, 'y': 13, 'id': 95, 'team': 2, 'alive': True, 'bonus_count': 0},\n",
       "  {'x': 38, 'y': 24, 'id': 96, 'team': 2, 'alive': True, 'bonus_count': 0},\n",
       "  {'x': 38, 'y': 38, 'id': 97, 'team': 2, 'alive': True, 'bonus_count': 0},\n",
       "  {'x': 39, 'y': 18, 'id': 98, 'team': 2, 'alive': True, 'bonus_count': 0},\n",
       "  {'x': 39, 'y': 38, 'id': 99, 'team': 2, 'alive': True, 'bonus_count': 0}],\n",
       " 'predators': [{'x': 16,\n",
       "   'y': 17,\n",
       "   'id': 0,\n",
       "   'team': 0,\n",
       "   'alive': True,\n",
       "   'bonus_count': 0},\n",
       "  {'x': 20, 'y': 22, 'id': 1, 'team': 0, 'alive': True, 'bonus_count': 0},\n",
       "  {'x': 23, 'y': 22, 'id': 2, 'team': 0, 'alive': True, 'bonus_count': 0},\n",
       "  {'x': 20, 'y': 21, 'id': 3, 'team': 0, 'alive': True, 'bonus_count': 0},\n",
       "  {'x': 18, 'y': 18, 'id': 4, 'team': 0, 'alive': True, 'bonus_count': 0}],\n",
       " 'scores': [0.0, 0.0]}"
      ]
     },
     "execution_count": 18,
     "metadata": {},
     "output_type": "execute_result"
    }
   ],
   "execution_count": 18
  },
  {
   "metadata": {
    "ExecuteTime": {
     "end_time": "2024-10-21T14:55:34.910459Z",
     "start_time": "2024-10-21T14:55:34.875963Z"
    }
   },
   "cell_type": "code",
   "source": "from world.scripted_agents import ClosestTargetAgent",
   "id": "2a731c3fba9665d6",
   "outputs": [],
   "execution_count": 24
  },
  {
   "metadata": {
    "ExecuteTime": {
     "end_time": "2024-10-21T15:07:26.540235Z",
     "start_time": "2024-10-21T15:07:26.510622Z"
    }
   },
   "cell_type": "code",
   "source": "agent = ClosestTargetAgent()\n",
   "id": "15a4427382b6e933",
   "outputs": [],
   "execution_count": 47
  },
  {
   "metadata": {
    "ExecuteTime": {
     "end_time": "2024-10-21T15:07:27.401137Z",
     "start_time": "2024-10-21T15:07:27.370634Z"
    }
   },
   "cell_type": "code",
   "source": "from world.utils import RenderedEnvWrapper",
   "id": "1961d9744449d83d",
   "outputs": [],
   "execution_count": 48
  },
  {
   "metadata": {
    "ExecuteTime": {
     "end_time": "2024-10-21T15:07:27.629341Z",
     "start_time": "2024-10-21T15:07:27.599989Z"
    }
   },
   "cell_type": "code",
   "source": "wrap = RenderedEnvWrapper(env)",
   "id": "f40a0e1bc7c580af",
   "outputs": [],
   "execution_count": 49
  },
  {
   "metadata": {
    "ExecuteTime": {
     "end_time": "2024-10-21T15:07:29.091676Z",
     "start_time": "2024-10-21T15:07:28.005620Z"
    }
   },
   "cell_type": "code",
   "source": [
    "state, info = wrap.reset()\n",
    "agent.reset(state, 0)"
   ],
   "id": "7b214af47bf0ce67",
   "outputs": [],
   "execution_count": 50
  },
  {
   "metadata": {
    "ExecuteTime": {
     "end_time": "2024-10-21T15:07:54.171462Z",
     "start_time": "2024-10-21T15:07:53.917582Z"
    }
   },
   "cell_type": "code",
   "source": [
    "done = False\n",
    "while not done:\n",
    "    state, done, info = wrap.step(agent.get_actions(state, 0))\n",
    "    print('a')"
   ],
   "id": "9c3413c3100f240",
   "outputs": [
    {
     "name": "stdout",
     "output_type": "stream",
     "text": [
      "a\n",
      "a\n",
      "a\n",
      "a\n",
      "a\n",
      "a\n",
      "a\n",
      "a\n",
      "a\n",
      "a\n",
      "a\n",
      "a\n",
      "a\n",
      "a\n",
      "a\n",
      "a\n",
      "a\n",
      "a\n",
      "a\n",
      "a\n",
      "a\n",
      "a\n",
      "a\n",
      "a\n",
      "a\n",
      "a\n",
      "a\n",
      "a\n",
      "a\n",
      "a\n",
      "a\n",
      "a\n",
      "a\n",
      "a\n",
      "a\n",
      "a\n",
      "a\n",
      "a\n",
      "a\n",
      "a\n",
      "a\n",
      "a\n",
      "a\n",
      "a\n",
      "a\n",
      "a\n",
      "a\n",
      "a\n",
      "a\n",
      "a\n",
      "a\n",
      "a\n",
      "a\n",
      "a\n",
      "a\n",
      "a\n",
      "a\n",
      "a\n",
      "a\n",
      "a\n",
      "a\n",
      "a\n",
      "a\n",
      "a\n",
      "a\n",
      "a\n",
      "a\n",
      "a\n",
      "a\n",
      "a\n",
      "a\n",
      "a\n",
      "a\n",
      "a\n",
      "a\n",
      "a\n",
      "a\n",
      "a\n",
      "a\n",
      "a\n",
      "a\n",
      "a\n",
      "a\n",
      "a\n",
      "a\n",
      "a\n",
      "a\n",
      "a\n",
      "a\n",
      "a\n",
      "a\n",
      "a\n",
      "a\n",
      "a\n",
      "a\n",
      "a\n",
      "a\n",
      "a\n",
      "a\n",
      "a\n",
      "a\n",
      "a\n",
      "a\n",
      "a\n",
      "a\n",
      "a\n",
      "a\n",
      "a\n",
      "a\n",
      "a\n",
      "a\n",
      "a\n",
      "a\n",
      "a\n",
      "a\n",
      "a\n",
      "a\n",
      "a\n",
      "a\n",
      "a\n",
      "a\n",
      "a\n",
      "a\n",
      "a\n",
      "a\n",
      "a\n",
      "a\n",
      "a\n",
      "a\n",
      "a\n",
      "a\n",
      "a\n",
      "a\n",
      "a\n",
      "a\n",
      "a\n",
      "a\n",
      "a\n",
      "a\n",
      "a\n",
      "a\n",
      "a\n",
      "a\n",
      "a\n",
      "a\n",
      "a\n",
      "a\n",
      "a\n",
      "a\n",
      "a\n",
      "a\n",
      "a\n",
      "a\n",
      "a\n",
      "a\n",
      "a\n",
      "a\n",
      "a\n",
      "a\n",
      "a\n",
      "a\n",
      "a\n",
      "a\n",
      "a\n",
      "a\n",
      "a\n",
      "a\n",
      "a\n",
      "a\n",
      "a\n",
      "a\n",
      "a\n",
      "a\n",
      "a\n",
      "a\n",
      "a\n",
      "a\n",
      "a\n",
      "a\n",
      "a\n",
      "a\n",
      "a\n",
      "a\n",
      "a\n",
      "a\n",
      "a\n",
      "a\n",
      "a\n",
      "a\n",
      "a\n",
      "a\n",
      "a\n",
      "a\n"
     ]
    }
   ],
   "execution_count": 52
  },
  {
   "metadata": {
    "ExecuteTime": {
     "end_time": "2024-10-21T15:08:00.232151Z",
     "start_time": "2024-10-21T15:07:59.865669Z"
    }
   },
   "cell_type": "code",
   "source": "wrap.render()",
   "id": "fa24d4b606e7b91c",
   "outputs": [],
   "execution_count": 53
  },
  {
   "metadata": {
    "ExecuteTime": {
     "end_time": "2024-10-21T15:08:31.964264Z",
     "start_time": "2024-10-21T15:08:31.927161Z"
    }
   },
   "cell_type": "code",
   "source": "info",
   "id": "586355eb4ffeb887",
   "outputs": [
    {
     "data": {
      "text/plain": [
       "{'eaten': {(1, 24): (0, 0)},\n",
       " 'preys': [{'x': 2,\n",
       "   'y': 0,\n",
       "   'id': 0,\n",
       "   'team': 1,\n",
       "   'alive': False,\n",
       "   'bonus_count': 0},\n",
       "  {'x': 0, 'y': 5, 'id': 1, 'team': 1, 'alive': False, 'bonus_count': 0},\n",
       "  {'x': 6, 'y': 18, 'id': 2, 'team': 1, 'alive': False, 'bonus_count': 0},\n",
       "  {'x': 10, 'y': 26, 'id': 3, 'team': 1, 'alive': False, 'bonus_count': 0},\n",
       "  {'x': 1, 'y': 1, 'id': 4, 'team': 1, 'alive': False, 'bonus_count': 0},\n",
       "  {'x': 5, 'y': 30, 'id': 5, 'team': 1, 'alive': False, 'bonus_count': 0},\n",
       "  {'x': 6, 'y': 30, 'id': 6, 'team': 1, 'alive': False, 'bonus_count': 0},\n",
       "  {'x': 1, 'y': 0, 'id': 7, 'team': 1, 'alive': False, 'bonus_count': 0},\n",
       "  {'x': 11, 'y': 10, 'id': 8, 'team': 1, 'alive': False, 'bonus_count': 0},\n",
       "  {'x': 10, 'y': 6, 'id': 9, 'team': 1, 'alive': False, 'bonus_count': 0},\n",
       "  {'x': 1, 'y': 13, 'id': 10, 'team': 1, 'alive': False, 'bonus_count': 0},\n",
       "  {'x': 1, 'y': 37, 'id': 11, 'team': 1, 'alive': False, 'bonus_count': 0},\n",
       "  {'x': 9, 'y': 14, 'id': 12, 'team': 1, 'alive': False, 'bonus_count': 0},\n",
       "  {'x': 8, 'y': 13, 'id': 13, 'team': 1, 'alive': False, 'bonus_count': 0},\n",
       "  {'x': 9, 'y': 5, 'id': 14, 'team': 1, 'alive': False, 'bonus_count': 0},\n",
       "  {'x': 1, 'y': 2, 'id': 15, 'team': 1, 'alive': False, 'bonus_count': 0},\n",
       "  {'x': 10, 'y': 13, 'id': 16, 'team': 1, 'alive': False, 'bonus_count': 0},\n",
       "  {'x': 11, 'y': 14, 'id': 17, 'team': 1, 'alive': False, 'bonus_count': 0},\n",
       "  {'x': 10, 'y': 32, 'id': 18, 'team': 1, 'alive': False, 'bonus_count': 0},\n",
       "  {'x': 9, 'y': 9, 'id': 19, 'team': 1, 'alive': False, 'bonus_count': 0},\n",
       "  {'x': 8, 'y': 34, 'id': 20, 'team': 1, 'alive': False, 'bonus_count': 0},\n",
       "  {'x': 9, 'y': 3, 'id': 21, 'team': 1, 'alive': False, 'bonus_count': 0},\n",
       "  {'x': 13, 'y': 30, 'id': 22, 'team': 1, 'alive': False, 'bonus_count': 0},\n",
       "  {'x': 13, 'y': 17, 'id': 23, 'team': 1, 'alive': False, 'bonus_count': 0},\n",
       "  {'x': 13, 'y': 5, 'id': 24, 'team': 1, 'alive': False, 'bonus_count': 0},\n",
       "  {'x': 15, 'y': 21, 'id': 25, 'team': 1, 'alive': False, 'bonus_count': 0},\n",
       "  {'x': 13, 'y': 32, 'id': 26, 'team': 1, 'alive': False, 'bonus_count': 0},\n",
       "  {'x': 10, 'y': 33, 'id': 27, 'team': 1, 'alive': False, 'bonus_count': 0},\n",
       "  {'x': 14, 'y': 22, 'id': 28, 'team': 1, 'alive': False, 'bonus_count': 0},\n",
       "  {'x': 18, 'y': 8, 'id': 29, 'team': 1, 'alive': False, 'bonus_count': 0},\n",
       "  {'x': 20, 'y': 10, 'id': 30, 'team': 1, 'alive': False, 'bonus_count': 0},\n",
       "  {'x': 25, 'y': 14, 'id': 31, 'team': 1, 'alive': False, 'bonus_count': 0},\n",
       "  {'x': 18, 'y': 21, 'id': 32, 'team': 1, 'alive': False, 'bonus_count': 0},\n",
       "  {'x': 18, 'y': 29, 'id': 33, 'team': 1, 'alive': False, 'bonus_count': 0},\n",
       "  {'x': 22, 'y': 2, 'id': 34, 'team': 1, 'alive': False, 'bonus_count': 0},\n",
       "  {'x': 21, 'y': 7, 'id': 35, 'team': 1, 'alive': False, 'bonus_count': 0},\n",
       "  {'x': 17, 'y': 29, 'id': 36, 'team': 1, 'alive': False, 'bonus_count': 0},\n",
       "  {'x': 18, 'y': 25, 'id': 37, 'team': 1, 'alive': False, 'bonus_count': 0},\n",
       "  {'x': 22, 'y': 1, 'id': 38, 'team': 1, 'alive': False, 'bonus_count': 0},\n",
       "  {'x': 20, 'y': 1, 'id': 39, 'team': 1, 'alive': False, 'bonus_count': 0},\n",
       "  {'x': 18, 'y': 14, 'id': 40, 'team': 1, 'alive': False, 'bonus_count': 0},\n",
       "  {'x': 18, 'y': 27, 'id': 41, 'team': 1, 'alive': False, 'bonus_count': 0},\n",
       "  {'x': 19, 'y': 2, 'id': 42, 'team': 1, 'alive': False, 'bonus_count': 0},\n",
       "  {'x': 22, 'y': 5, 'id': 43, 'team': 1, 'alive': False, 'bonus_count': 0},\n",
       "  {'x': 17, 'y': 9, 'id': 44, 'team': 1, 'alive': False, 'bonus_count': 0},\n",
       "  {'x': 21, 'y': 6, 'id': 45, 'team': 1, 'alive': False, 'bonus_count': 0},\n",
       "  {'x': 21, 'y': 16, 'id': 46, 'team': 1, 'alive': False, 'bonus_count': 0},\n",
       "  {'x': 21, 'y': 22, 'id': 47, 'team': 1, 'alive': False, 'bonus_count': 0},\n",
       "  {'x': 21, 'y': 23, 'id': 48, 'team': 1, 'alive': False, 'bonus_count': 0},\n",
       "  {'x': 32, 'y': 9, 'id': 49, 'team': 1, 'alive': False, 'bonus_count': 0},\n",
       "  {'x': 20, 'y': 26, 'id': 50, 'team': 1, 'alive': False, 'bonus_count': 0},\n",
       "  {'x': 21, 'y': 33, 'id': 51, 'team': 1, 'alive': False, 'bonus_count': 0},\n",
       "  {'x': 26, 'y': 36, 'id': 52, 'team': 1, 'alive': False, 'bonus_count': 0},\n",
       "  {'x': 21, 'y': 38, 'id': 53, 'team': 1, 'alive': False, 'bonus_count': 0},\n",
       "  {'x': 24, 'y': 18, 'id': 54, 'team': 1, 'alive': False, 'bonus_count': 0},\n",
       "  {'x': 22, 'y': 21, 'id': 55, 'team': 1, 'alive': False, 'bonus_count': 0},\n",
       "  {'x': 21, 'y': 29, 'id': 56, 'team': 1, 'alive': False, 'bonus_count': 0},\n",
       "  {'x': 26, 'y': 14, 'id': 57, 'team': 1, 'alive': False, 'bonus_count': 0},\n",
       "  {'x': 26, 'y': 12, 'id': 58, 'team': 1, 'alive': False, 'bonus_count': 0},\n",
       "  {'x': 18, 'y': 5, 'id': 59, 'team': 1, 'alive': False, 'bonus_count': 0},\n",
       "  {'x': 25, 'y': 26, 'id': 60, 'team': 1, 'alive': False, 'bonus_count': 0},\n",
       "  {'x': 26, 'y': 34, 'id': 61, 'team': 1, 'alive': False, 'bonus_count': 0},\n",
       "  {'x': 25, 'y': 25, 'id': 62, 'team': 1, 'alive': False, 'bonus_count': 0},\n",
       "  {'x': 35, 'y': 1, 'id': 63, 'team': 1, 'alive': False, 'bonus_count': 0},\n",
       "  {'x': 25, 'y': 36, 'id': 64, 'team': 1, 'alive': False, 'bonus_count': 0},\n",
       "  {'x': 24, 'y': 37, 'id': 65, 'team': 1, 'alive': False, 'bonus_count': 0},\n",
       "  {'x': 31, 'y': 26, 'id': 66, 'team': 1, 'alive': False, 'bonus_count': 0},\n",
       "  {'x': 29, 'y': 29, 'id': 67, 'team': 1, 'alive': False, 'bonus_count': 0},\n",
       "  {'x': 30, 'y': 31, 'id': 68, 'team': 1, 'alive': False, 'bonus_count': 0},\n",
       "  {'x': 38, 'y': 2, 'id': 69, 'team': 1, 'alive': False, 'bonus_count': 0},\n",
       "  {'x': 34, 'y': 3, 'id': 70, 'team': 1, 'alive': False, 'bonus_count': 0},\n",
       "  {'x': 34, 'y': 15, 'id': 71, 'team': 1, 'alive': False, 'bonus_count': 0},\n",
       "  {'x': 30, 'y': 16, 'id': 72, 'team': 1, 'alive': False, 'bonus_count': 0},\n",
       "  {'x': 21, 'y': 13, 'id': 73, 'team': 1, 'alive': False, 'bonus_count': 0},\n",
       "  {'x': 34, 'y': 12, 'id': 74, 'team': 1, 'alive': False, 'bonus_count': 0},\n",
       "  {'x': 33, 'y': 15, 'id': 75, 'team': 1, 'alive': False, 'bonus_count': 0},\n",
       "  {'x': 38, 'y': 8, 'id': 76, 'team': 1, 'alive': False, 'bonus_count': 0},\n",
       "  {'x': 29, 'y': 10, 'id': 77, 'team': 1, 'alive': False, 'bonus_count': 0},\n",
       "  {'x': 35, 'y': 17, 'id': 78, 'team': 1, 'alive': False, 'bonus_count': 0},\n",
       "  {'x': 37, 'y': 32, 'id': 79, 'team': 1, 'alive': False, 'bonus_count': 0},\n",
       "  {'x': 29, 'y': 2, 'id': 80, 'team': 1, 'alive': False, 'bonus_count': 0},\n",
       "  {'x': 28, 'y': 14, 'id': 81, 'team': 1, 'alive': False, 'bonus_count': 0},\n",
       "  {'x': 33, 'y': 16, 'id': 82, 'team': 1, 'alive': False, 'bonus_count': 0},\n",
       "  {'x': 33, 'y': 30, 'id': 83, 'team': 1, 'alive': False, 'bonus_count': 0},\n",
       "  {'x': 4, 'y': 29, 'id': 84, 'team': 1, 'alive': False, 'bonus_count': 0},\n",
       "  {'x': 34, 'y': 9, 'id': 85, 'team': 1, 'alive': False, 'bonus_count': 0},\n",
       "  {'x': 37, 'y': 17, 'id': 86, 'team': 1, 'alive': False, 'bonus_count': 0},\n",
       "  {'x': 38, 'y': 14, 'id': 87, 'team': 1, 'alive': False, 'bonus_count': 0},\n",
       "  {'x': 36, 'y': 37, 'id': 88, 'team': 1, 'alive': False, 'bonus_count': 0},\n",
       "  {'x': 1, 'y': 10, 'id': 89, 'team': 1, 'alive': False, 'bonus_count': 0},\n",
       "  {'x': 36, 'y': 25, 'id': 90, 'team': 1, 'alive': False, 'bonus_count': 0},\n",
       "  {'x': 38, 'y': 21, 'id': 91, 'team': 1, 'alive': False, 'bonus_count': 0},\n",
       "  {'x': 37, 'y': 34, 'id': 92, 'team': 1, 'alive': False, 'bonus_count': 0},\n",
       "  {'x': 2, 'y': 29, 'id': 93, 'team': 1, 'alive': False, 'bonus_count': 0},\n",
       "  {'x': 38, 'y': 32, 'id': 94, 'team': 1, 'alive': False, 'bonus_count': 0},\n",
       "  {'x': 33, 'y': 0, 'id': 95, 'team': 1, 'alive': False, 'bonus_count': 0},\n",
       "  {'x': 35, 'y': 6, 'id': 96, 'team': 1, 'alive': False, 'bonus_count': 0},\n",
       "  {'x': 33, 'y': 12, 'id': 97, 'team': 1, 'alive': False, 'bonus_count': 0},\n",
       "  {'x': 2, 'y': 13, 'id': 98, 'team': 1, 'alive': False, 'bonus_count': 0},\n",
       "  {'x': 36, 'y': 5, 'id': 99, 'team': 1, 'alive': False, 'bonus_count': 0}],\n",
       " 'predators': [{'x': 13,\n",
       "   'y': 5,\n",
       "   'id': 0,\n",
       "   'team': 0,\n",
       "   'alive': True,\n",
       "   'bonus_count': 4},\n",
       "  {'x': 14, 'y': 2, 'id': 1, 'team': 0, 'alive': True, 'bonus_count': 1},\n",
       "  {'x': 13, 'y': 3, 'id': 2, 'team': 0, 'alive': True, 'bonus_count': 5},\n",
       "  {'x': 28, 'y': 2, 'id': 3, 'team': 0, 'alive': True, 'bonus_count': 2},\n",
       "  {'x': 30, 'y': 2, 'id': 4, 'team': 0, 'alive': True, 'bonus_count': 4}],\n",
       " 'scores': [100.0]}"
      ]
     },
     "execution_count": 54,
     "metadata": {},
     "output_type": "execute_result"
    }
   ],
   "execution_count": 54
  },
  {
   "metadata": {},
   "cell_type": "code",
   "outputs": [],
   "execution_count": null,
   "source": "",
   "id": "c79a04534e9bc155"
  }
 ],
 "metadata": {
  "kernelspec": {
   "display_name": "Python 3",
   "language": "python",
   "name": "python3"
  },
  "language_info": {
   "codemirror_mode": {
    "name": "ipython",
    "version": 2
   },
   "file_extension": ".py",
   "mimetype": "text/x-python",
   "name": "python",
   "nbconvert_exporter": "python",
   "pygments_lexer": "ipython2",
   "version": "2.7.6"
  }
 },
 "nbformat": 4,
 "nbformat_minor": 5
}
